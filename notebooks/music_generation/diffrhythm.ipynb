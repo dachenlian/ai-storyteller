{
 "cells": [
  {
   "cell_type": "code",
   "execution_count": 8,
   "id": "89794718",
   "metadata": {},
   "outputs": [
    {
     "name": "stdout",
     "output_type": "stream",
     "text": [
      "The autoreload extension is already loaded. To reload it, use:\n",
      "  %reload_ext autoreload\n"
     ]
    }
   ],
   "source": [
    "%load_ext autoreload\n",
    "%autoreload 2\n",
    "\n",
    "import json\n",
    "\n",
    "from google import genai\n",
    "import opencc\n",
    "\n",
    "from ai_storyteller.music_generation.diffrhythm import DiffRhythm\n",
    "from ai_storyteller.utils.get_env_var import get_env_var"
   ]
  },
  {
   "cell_type": "code",
   "execution_count": 9,
   "id": "a190e986",
   "metadata": {},
   "outputs": [
    {
     "name": "stdout",
     "output_type": "stream",
     "text": [
      "Found GEMINI_API_KEY using strategy: _get_from_env\n"
     ]
    }
   ],
   "source": [
    "api_key = get_env_var(\"GEMINI_API_KEY\")\n",
    "client = genai.Client(api_key=api_key)\n",
    "model = \"gemini-2.0-flash\"\n",
    "\n",
    "t2s = opencc.OpenCC(\"t2s.json\")"
   ]
  },
  {
   "cell_type": "code",
   "execution_count": 10,
   "id": "29ade603",
   "metadata": {},
   "outputs": [
    {
     "name": "stdout",
     "output_type": "stream",
     "text": [
      "DiffRhythm package path set to: vendor/DiffRhythm\n",
      "Using DiffRhythm shell script: vendor/DiffRhythm/scripts/run_diffrhythm.sh\n"
     ]
    }
   ],
   "source": [
    "dr = DiffRhythm()"
   ]
  },
  {
   "cell_type": "markdown",
   "id": "e28b4eac",
   "metadata": {},
   "source": [
    "https://discoverpods.com/overused-royalty-free-songs/"
   ]
  },
  {
   "cell_type": "code",
   "execution_count": 11,
   "id": "b31ec096",
   "metadata": {},
   "outputs": [
    {
     "name": "stdout",
     "output_type": "stream",
     "text": [
      "LRC path not provided, using script default: data/music_generation/lrc/eg_en_full.lrc\n",
      "Executing shell script: /bin/bash /home/richard/github/ai-storyteller/vendor/DiffRhythm/scripts/run_diffrhythm.sh --lrc-path /home/richard/github/ai-storyteller/data/music_generation/lrc/eg_en_full.lrc --ref-audio-path /home/richard/github/ai-storyteller/data/music_generation/music/snoozy beats - Feel the Glow.mp3 --chunked --audio-length 95 --repo-id ASLP-lab/DiffRhythm-full --output-dir /home/richard/github/ai-storyteller/notebooks/music_generation --output-file-name children_music.wav\n",
      "\n",
      "--- Shell Script Execution Successful ---\n",
      "stdout:\n",
      " Changed working directory to: /home/richard/github/ai-storyteller/vendor/DiffRhythm\n",
      "\u001b[0;32mUsing provided LRC path: /home/richard/github/ai-storyteller/data/music_generation/lrc/eg_en_full.lrc\u001b[0m\n",
      "\u001b[0;32mUsing provided reference audio path: /home/richard/github/ai-storyteller/data/music_generation/music/snoozy beats - Feel the Glow.mp3\u001b[0m\n",
      "\u001b[1;34mFinal Configuration:\u001b[0m\n",
      "  LRC Path:       /home/richard/github/ai-storyteller/data/music_generation/lrc/eg_en_full.lrc\n",
      "  Ref Prompt:     \n",
      "  Ref Audio Path: /home/richard/github/ai-storyteller/data/music_generation/music/snoozy beats - Feel the Glow.mp3\n",
      "  Audio Length:   95\n",
      "  Repo ID:        ASLP-lab/DiffRhythm-full\n",
      "  Output Dir:     /home/richard/github/ai-storyteller/notebooks/music_generation\n",
      "  Output File:    children_music.wav\n",
      "  Chunked:        true\n",
      "\n",
      "\u001b[0;36mExecuting Python script...\u001b[0m\n",
      "Current working directory: /home/richard/github/ai-storyteller/vendor/DiffRhythm\n",
      "./g2p/sources/g2p_chinese_model/poly_bert_model.onnx\n",
      "inference cost 7.79 seconds\n",
      "\n",
      "\u001b[0;32mPython script finished successfully.\u001b[0m\n",
      "\n",
      "stderr:\n",
      " /home/richard/github/ai-storyteller/.venv/lib/python3.11/site-packages/onnxruntime/capi/onnxruntime_inference_collection.py:118: UserWarning: Specified provider 'CUDAExecutionProvider' is not in available provider names.Available providers: 'AzureExecutionProvider, CPUExecutionProvider'\n",
      "  warnings.warn(\n",
      "/home/richard/github/ai-storyteller/.venv/lib/python3.11/site-packages/torch/nn/utils/weight_norm.py:143: FutureWarning: `torch.nn.utils.weight_norm` is deprecated in favor of `torch.nn.utils.parametrizations.weight_norm`.\n",
      "  WeightNorm.apply(module, name, dim)\n",
      "The argument `trust_remote_code` is to be used with Auto classes. It has no effect here and is ignored.\n",
      "\n",
      "Successfully generated: /home/richard/github/ai-storyteller/notebooks/music_generation/children_music.wav\n"
     ]
    },
    {
     "data": {
      "text/plain": [
       "PosixPath('/home/richard/github/ai-storyteller/notebooks/music_generation/children_music.wav')"
      ]
     },
     "execution_count": 11,
     "metadata": {},
     "output_type": "execute_result"
    }
   ],
   "source": [
    "dr.generate_music(\n",
    "    ref_audio_path=\"../../data/music_generation/music/snoozy beats - Feel the Glow.mp3\",\n",
    "    output_dir=\".\",\n",
    "    output_file_name=\"children_music.wav\"\n",
    ")"
   ]
  },
  {
   "cell_type": "markdown",
   "id": "c388e8cb",
   "metadata": {},
   "source": [
    "# Generate lyrics from a children's story"
   ]
  },
  {
   "cell_type": "code",
   "execution_count": 4,
   "id": "58974248",
   "metadata": {},
   "outputs": [
    {
     "data": {
      "text/plain": [
       "{'title': '大野狼與七隻小羊',\n",
       " 'style_guide': {'overall_style': 'Warm, friendly, cartoon style with soft edges and bright, cheerful colors. Resembles classic European fairy tale illustrations but slightly more modern and simplified. Focus on expressive characters. Use a watercolor texture effect.',\n",
       "  'character_design': {'mother_goat': 'Kind face, wearing an apron.',\n",
       "   'little_kids': 'Cute, fluffy, varied slightly in appearance (maybe one has spots, one has floppy ears).',\n",
       "   'wolf': 'Cunning but slightly bumbling appearance, dark fur, sharp teeth (but not overly terrifying for children).',\n",
       "   'baker_miller': 'Traditional European peasant attire.'},\n",
       "  'backgrounds': 'Softly detailed, slightly whimsical settings (cozy cottage, lush green forest edge, rustic village shops, sunny meadow).'},\n",
       " 'pages': {'cover': {'image_prompt': \"Generate a children's book cover image in a warm, friendly, cartoon style with soft edges, bright cheerful colors, and a watercolor texture effect, using the defined character designs (cute kids, cunning wolf). The scene is an exterior view of a cozy, slightly whimsical cottage nestled at the edge of a softly detailed forest under a bright, sunny day atmosphere. Focus on seven cute, fluffy little goat kids playfully crowded together, peeking curiously (some slightly nervously) out of the main cottage window with engaging expressions. Subtly include the Wolf (cunning but not overly scary) partially hidden behind a large tree trunk or bushes in the nearby forest background, looking slyly towards the cottage. The atmosphere should be primarily inviting, warm, and colorful, suitable for a children's book cover, but with a gentle hint of fairy tale suspense. Ensure the cottage and peeking kids are the main focus, leaving ample clear space (e.g., across the top or bottom third) for the title text '大野狼與七隻小羊'.\",\n",
       "   'text': ''},\n",
       "  '1': {'image_prompt': 'Style: [Use Defined Style Guide]. Full page illustration. Interior of a cozy, slightly messy cottage. Mother Goat (kind, wearing apron) stands surrounded by her seven small, cute goat kids. She looks concerned, gesturing warningly towards the door/window (off-panel). The kids look attentive, some slightly worried. Atmosphere: Cozy, loving, with a hint of warning.',\n",
       "   'text': '從前從前，有羊媽媽和七隻小羊。\\n媽媽要去森林，叮嚀孩子們：「要小心大野狼！牠聲音粗啞，腳是黑色的！」\\n\\n沒多久，叩叩叩！\\n一個粗啞的聲音說：「開門啊，媽媽回來了！」\\n小羊們大叫：「不開！你是大野狼！」'},\n",
       "  '2': {'image_prompt': \"Style: [Use Defined Style Guide]. Full page illustration. View from inside the cottage, focusing on the window or a crack in the door. The Wolf's large, distinctly black paw is visible resting on the windowsill or pushed slightly through the door crack. On the inside, several little kids are shown recoiling in fear, pointing at the paw, emphasizing their recognition of the danger. Atmosphere: Suspenseful, fearful.\",\n",
       "   'text': '大野狼吃了粉筆，又來敲門，聲音變細了。\\n但牠把黑爪子放在窗邊。\\n\\n小羊們又叫：「不開！媽媽的腳不是黑色的！」\\n\\n於是大野狼去找麵包師傅和磨坊主人，把腳抹上麵糰和麵粉弄白。'},\n",
       "  '3': {'image_prompt': \"Style: [Use Defined Style Guide]. Full page illustration. Similar view as page 2, focusing on the window or door crack. This time, the Wolf's paw covered in white flour is presented. Inside, the little kids look hesitant but visibly relieved or fooled, perhaps whispering to each other. One kid is reaching towards the door latch/lock. Atmosphere: Deception, false sense of security.\",\n",
       "   'text': '壞蛋第三次來敲門，伸進白色的腳。\\n小羊們相信了，把門打開。'},\n",
       "  '4': {'image_prompt': 'Style: [Use Defined Style Guide]. Full page illustration. Dynamic scene inside the cottage. The door is wide open. The Wolf (cartoonishly menacing, perhaps licking its lips) stands prominently just inside. The seven kids are in mid-motion, scattering frantically in different directions – diving under a table, jumping towards a bed, running towards a large grandfather clock, etc. Furniture might be slightly askew to indicate chaos. Atmosphere: Panic, high action, chaos.',\n",
       "   'text': '結果衝進來的是大野狼！\\n小羊們嚇壞了，趕快躲到桌下、床上、爐子裡、櫥櫃裡、洗臉盆下和鐘殼裡！'},\n",
       "  '5': {'image_prompt': \"Style: [Use Defined Style Guide]. Full page illustration. Peaceful outdoor scene in a sunny green meadow under a large, shady tree. The Wolf lies fast asleep, snoring (indicated by 'Zzz's or musical notes). Its belly is comically large, round, and prominent, clearly showing it has eaten a lot. Atmosphere: Deceptive peace, satiation.\",\n",
       "   'text': '大野狼把躲起來的小羊一個個找出來，吞進肚子裡。\\n只有躲在鐘殼裡最小的沒被找到。\\n\\n吃飽後，牠走到外面草地上，躺在樹下睡著了。'},\n",
       "  '6': {'image_prompt': 'Style: [Use Defined Style Guide]. Full page illustration. Interior of the messy cottage. Mother Goat stands amidst the overturned furniture, looking shocked and heartbroken. From the tall grandfather clock in the corner, the smallest little kid peeks out cautiously, looking sad but also relieved to see its mother. Atmosphere: Sadness, devastation, a glimmer of hope.',\n",
       "   'text': '羊媽媽回來，看到家裡亂七八糟，孩子都不見了，傷心地哭了起來。\\n\\n這時，最小的羊從鐘殼裡叫著：「媽媽，我在這裡！大野狼把哥哥姐姐們都吃掉了！」'},\n",
       "  '7': {'image_prompt': \"Style: [Use Defined Style Guide]. Full page illustration. Outdoor meadow scene, centered on the sleeping Wolf under the tree. Mother Goat is carefully cutting open the Wolf's large belly with scissors (action shown gently, not graphically). Six little goat kids are joyfully popping their heads out or jumping fully out of the opening, looking unharmed, surprised, and immensely happy. The smallest kid looks on nearby with relief. Atmosphere: Climax, rescue, joyful relief.\",\n",
       "   'text': '媽媽帶著小羊找到正在打呼的大野狼，看到牠肚子裡有東西在動！\\n\\n媽媽趕快拿來剪刀，小心地剪開狼肚子，六隻小羊一個接一個跳了出來，全都平安無事！'},\n",
       "  '8': {'image_prompt': 'Style: [Use Defined Style Guide]. Full page illustration. Scene focused on an old stone well in the meadow. The Wolf is depicted mid-fall, tumbling headfirst into the well with a large splash. Its belly looks heavy and round (implying stones). Nearby, perhaps slightly in the foreground or background, Mother Goat and the seven little kids are dancing joyfully in a circle around the well, celebrating. Atmosphere: Justice, climax resolution, pure joy, celebration.',\n",
       "   'text': '牠們高興地抱著媽媽。\\n媽媽說：「快去找些大石頭來！」\\n小羊們把石頭塞滿大野狼的肚子，媽媽再趕快把牠的肚子縫起來。\\n\\n大野狼醒來覺得好渴，走到井邊彎腰喝水時，重重的石頭讓牠一頭栽進井裡淹死了！\\n\\n七隻小羊看到了，高興地跑來大叫：「大野狼死了！」\\n牠們和媽媽一起圍著水井，開心地跳起舞來。'}}}"
      ]
     },
     "execution_count": 4,
     "metadata": {},
     "output_type": "execute_result"
    }
   ],
   "source": [
    "with open(\"../../data/stories/the_wolf_and_the_seven_kids/story.json\") as f:\n",
    "    data = json.load(f)\n",
    "data"
   ]
  },
  {
   "cell_type": "code",
   "execution_count": 5,
   "id": "000eff9f",
   "metadata": {},
   "outputs": [
    {
     "name": "stdout",
     "output_type": "stream",
     "text": [
      "從前從前，有羊媽媽和七隻小羊。\n",
      "媽媽要去森林，叮嚀孩子們：「要小心大野狼！牠聲音粗啞，腳是黑色的！」\n",
      "\n",
      "沒多久，叩叩叩！\n",
      "一個粗啞的聲音說：「開門啊，媽媽回來了！」\n",
      "小羊們大叫：「不開！你是大野狼！」\n",
      "大野狼吃了粉筆，又來敲門，聲音變細了。\n",
      "但牠把黑爪子放在窗邊。\n",
      "\n",
      "小羊們又叫：「不開！媽媽的腳不是黑色的！」\n",
      "\n",
      "於是大野狼去找麵包師傅和磨坊主人，把腳抹上麵糰和麵粉弄白。\n",
      "壞蛋第三次來敲門，伸進白色的腳。\n",
      "小羊們相信了，把門打開。\n",
      "結果衝進來的是大野狼！\n",
      "小羊們嚇壞了，趕快躲到桌下、床上、爐子裡、櫥櫃裡、洗臉盆下和鐘殼裡！\n",
      "大野狼把躲起來的小羊一個個找出來，吞進肚子裡。\n",
      "只有躲在鐘殼裡最小的沒被找到。\n",
      "\n",
      "吃飽後，牠走到外面草地上，躺在樹下睡著了。\n",
      "羊媽媽回來，看到家裡亂七八糟，孩子都不見了，傷心地哭了起來。\n",
      "\n",
      "這時，最小的羊從鐘殼裡叫著：「媽媽，我在這裡！大野狼把哥哥姐姐們都吃掉了！」\n",
      "媽媽帶著小羊找到正在打呼的大野狼，看到牠肚子裡有東西在動！\n",
      "\n",
      "媽媽趕快拿來剪刀，小心地剪開狼肚子，六隻小羊一個接一個跳了出來，全都平安無事！\n",
      "牠們高興地抱著媽媽。\n",
      "媽媽說：「快去找些大石頭來！」\n",
      "小羊們把石頭塞滿大野狼的肚子，媽媽再趕快把牠的肚子縫起來。\n",
      "\n",
      "大野狼醒來覺得好渴，走到井邊彎腰喝水時，重重的石頭讓牠一頭栽進井裡淹死了！\n",
      "\n",
      "七隻小羊看到了，高興地跑來大叫：「大野狼死了！」\n",
      "牠們和媽媽一起圍著水井，開心地跳起舞來。\n"
     ]
    }
   ],
   "source": [
    "pages = data[\"pages\"]\n",
    "text = []\n",
    "for page in pages:\n",
    "    text.append(pages[page][\"text\"].strip())\n",
    "text = \"\\n\".join(text).strip()\n",
    "print(text)"
   ]
  },
  {
   "cell_type": "markdown",
   "id": "5ca17537",
   "metadata": {},
   "source": [
    "## Prepare prompt for lyric generation"
   ]
  },
  {
   "cell_type": "code",
   "execution_count": null,
   "id": "ffc686db",
   "metadata": {},
   "outputs": [
    {
     "name": "stdout",
     "output_type": "stream",
     "text": [
      "根據以下故事生成歌詞，這首歌長度為95秒\n",
      "格式應該是 .lrc，例如：\n",
      "\n",
      "```\n",
      "[00:00.00]歌詞內容\n",
      "[00:01.00]歌詞內容\n",
      "...\n",
      "```\n",
      "除了歌詞以外，其他的內容都不需要，中間不能有空行，如果故事的內容是中文，請輸出簡體字的歌詞\n",
      "\n",
      "故事：\n",
      "```\n",
      "從前從前，有羊媽媽和七隻小羊。\n",
      "媽媽要去森林，叮嚀孩子們：「要小心大野狼！牠聲音粗啞，腳是黑色的！」\n",
      "\n",
      "沒多久，叩叩叩！\n",
      "一個粗啞的聲音說：「開門啊，媽媽回來了！」\n",
      "小羊們大叫：「不開！你是大野狼！」\n",
      "大野狼吃了粉筆，又來敲門，聲音變細了。\n",
      "但牠把黑爪子放在窗邊。\n",
      "\n",
      "小羊們又叫：「不開！媽媽的腳不是黑色的！」\n",
      "\n",
      "於是大野狼去找麵包師傅和磨坊主人，把腳抹上麵糰和麵粉弄白。\n",
      "壞蛋第三次來敲門，伸進白色的腳。\n",
      "小羊們相信了，把門打開。\n",
      "結果衝進來的是大野狼！\n",
      "小羊們嚇壞了，趕快躲到桌下、床上、爐子裡、櫥櫃裡、洗臉盆下和鐘殼裡！\n",
      "大野狼把躲起來的小羊一個個找出來，吞進肚子裡。\n",
      "只有躲在鐘殼裡最小的沒被找到。\n",
      "\n",
      "吃飽後，牠走到外面草地上，躺在樹下睡著了。\n",
      "羊媽媽回來，看到家裡亂七八糟，孩子都不見了，傷心地哭了起來。\n",
      "\n",
      "這時，最小的羊從鐘殼裡叫著：「媽媽，我在這裡！大野狼把哥哥姐姐們都吃掉了！」\n",
      "媽媽帶著小羊找到正在打呼的大野狼，看到牠肚子裡有東西在動！\n",
      "\n",
      "媽媽趕快拿來剪刀，小心地剪開狼肚子，六隻小羊一個接一個跳了出來，全都平安無事！\n",
      "牠們高興地抱著媽媽。\n",
      "媽媽說：「快去找些大石頭來！」\n",
      "小羊們把石頭塞滿大野狼的肚子，媽媽再趕快把牠的肚子縫起來。\n",
      "\n",
      "大野狼醒來覺得好渴，走到井邊彎腰喝水時，重重的石頭讓牠一頭栽進井裡淹死了！\n",
      "\n",
      "七隻小羊看到了，高興地跑來大叫：「大野狼死了！」\n",
      "牠們和媽媽一起圍著水井，開心地跳起舞來。\n",
      "```\n",
      "\n"
     ]
    }
   ],
   "source": [
    "gen_lyrics_from_story_prompt = \"\"\"\\\n",
    "根據以下故事生成歌詞，這首歌長度為{seconds}秒\n",
    "格式應該是 .lrc，例如：\n",
    "\n",
    "```\n",
    "[00:00.00]歌詞內容\n",
    "[00:01.00]歌詞內容\n",
    "...\n",
    "```\n",
    "除了歌詞以外，其他的內容都不需要，中間不能有空行，如果故事的內容是中文\n",
    "\n",
    "故事：\n",
    "```\n",
    "{story}\n",
    "```\n",
    "\"\"\"\n",
    "\n",
    "filled_gen_lyrics_from_story_prompt = gen_lyrics_from_story_prompt.format(story=text, seconds=95)\n",
    "print(filled_gen_lyrics_from_story_prompt)"
   ]
  },
  {
   "cell_type": "markdown",
   "id": "15f214bc",
   "metadata": {},
   "source": [
    "## Generate"
   ]
  },
  {
   "cell_type": "code",
   "execution_count": null,
   "id": "f64cc305",
   "metadata": {},
   "outputs": [
    {
     "name": "stdout",
     "output_type": "stream",
     "text": [
      "[00:01.02]從前從前 羊媽媽\n",
      "[00:04.28]七隻小羊 在家\n",
      "[00:07.41]森林很遠 要小心呀\n",
      "[00:10.49]大野狼 壞傢伙\n",
      "\n",
      "[00:13.92]粗啞聲音 黑黑腳丫\n",
      "[00:17.07]別開門呀 別相信它\n",
      "[00:20.27]叩叩叩 誰在敲打\n",
      "[00:23.39]騙人的吧 不聽不聽\n",
      "\n",
      "[00:26.90]粉筆麵糰 白腳丫呀\n",
      "[00:29.95]小羊開門 大狼來啦\n",
      "[00:33.17]躲起來呀 快躲好呀\n",
      "[00:36.28]桌下床上 爐子裡呀\n",
      "\n",
      "[00:39.83]一個一個 被它吃啦\n",
      "[00:42.98]鐘殼最小 躲過一劫\n",
      "[00:46.10]媽媽回來 家亂糟糟\n",
      "[00:49.24]孩子不見 傷心哭嚎\n",
      "\n",
      "[00:52.73]鐘殼裡面 最小的叫\n",
      "[00:55.85]大野狼啊 吃掉哥哥\n",
      "[00:59.01]狼在睡覺 肚子鼓鼓\n",
      "[01:02.16]剪刀石頭 媽媽來救\n",
      "\n",
      "[01:05.71]剪開肚子 羊羊跳出\n",
      "[01:08.86]全都平安 真好真好\n",
      "[01:12.05]石頭塞滿 狼的肚子\n",
      "[01:15.15]媽媽縫好 肚子鼓鼓\n",
      "\n",
      "[01:18.66]口渴醒來 井邊喝水\n",
      "[01:21.81]頭重腳輕 掉進井裡\n",
      "[01:24.97]大野狼啊 淹死啦\n",
      "[01:28.11]羊羊歡呼 快樂歌唱\n",
      "\n",
      "[01:31.61]大野狼死啦 死啦死啦\n",
      "[01:34.77]媽媽羊羊 跳舞歌唱\n",
      "[01:37.93]大野狼死啦 死啦死啦\n",
      "[01:41.07]媽媽羊羊 永遠幸福\n",
      "[01:44.07]\n",
      "\n"
     ]
    }
   ],
   "source": [
    "res = client.models.generate_content(\n",
    "    model=model,\n",
    "    contents=filled_gen_lyrics_from_story_prompt,\n",
    ")\n",
    "lyrics =res.text\n",
    "print(lyrics)"
   ]
  },
  {
   "cell_type": "markdown",
   "id": "61643893",
   "metadata": {},
   "source": [
    "## Simplified Chinese seems to work better, so we'll convert"
   ]
  },
  {
   "cell_type": "code",
   "execution_count": null,
   "id": "2ec17f89",
   "metadata": {},
   "outputs": [
    {
     "ename": "NameError",
     "evalue": "name 'res' is not defined",
     "output_type": "error",
     "traceback": [
      "\u001b[31m---------------------------------------------------------------------------\u001b[39m",
      "\u001b[31mNameError\u001b[39m                                 Traceback (most recent call last)",
      "\u001b[36mCell\u001b[39m\u001b[36m \u001b[39m\u001b[32mIn[3]\u001b[39m\u001b[32m, line 1\u001b[39m\n\u001b[32m----> \u001b[39m\u001b[32m1\u001b[39m t2s.convert(\u001b[43mres\u001b[49m.text)\n",
      "\u001b[31mNameError\u001b[39m: name 'res' is not defined"
     ]
    }
   ],
   "source": [
    "t2s.convert(lyrics)"
   ]
  },
  {
   "cell_type": "code",
   "execution_count": 15,
   "id": "4450629f",
   "metadata": {},
   "outputs": [],
   "source": [
    "with open(\"/tmp/lyrics.lrc\", \"w\") as f:\n",
    "    f.write(res.text)"
   ]
  },
  {
   "cell_type": "code",
   "execution_count": 14,
   "id": "88d8e542",
   "metadata": {},
   "outputs": [
    {
     "name": "stdout",
     "output_type": "stream",
     "text": [
      "Executing shell script: /bin/bash /home/richard/github/ai-storyteller/vendor/DiffRhythm/scripts/run_diffrhythm.sh --lrc-path /tmp/lyrics.lrc --ref-prompt silent movie --chunked --audio-length 95 --repo-id ASLP-lab/DiffRhythm-full --output-dir /home/richard/github/ai-storyteller/notebooks/music_generation --output-file-name output.wav\n",
      "\n",
      "--- Shell Script Execution Successful ---\n",
      "stdout:\n",
      " Changed working directory to: /home/richard/github/ai-storyteller/vendor/DiffRhythm\n",
      "\u001b[0;32mUsing provided LRC path: /tmp/lyrics.lrc\u001b[0m\n",
      "\u001b[0;32mUsing provided reference prompt: silent movie\u001b[0m\n",
      "\u001b[1;34mFinal Configuration:\u001b[0m\n",
      "  LRC Path:       /tmp/lyrics.lrc\n",
      "  Ref Prompt:     silent movie\n",
      "  Ref Audio Path: \n",
      "  Audio Length:   95\n",
      "  Repo ID:        ASLP-lab/DiffRhythm-full\n",
      "  Output Dir:     /home/richard/github/ai-storyteller/notebooks/music_generation\n",
      "  Output File:    output.wav\n",
      "  Chunked:        true\n",
      "\n",
      "\u001b[0;36mExecuting Python script...\u001b[0m\n",
      "Current working directory: /home/richard/github/ai-storyteller/vendor/DiffRhythm\n",
      "./g2p/sources/g2p_chinese_model/poly_bert_model.onnx\n",
      "inference cost 7.68 seconds\n",
      "\n",
      "\u001b[0;32mPython script finished successfully.\u001b[0m\n",
      "\n",
      "stderr:\n",
      " /home/richard/github/ai-storyteller/.venv/lib/python3.11/site-packages/onnxruntime/capi/onnxruntime_inference_collection.py:118: UserWarning: Specified provider 'CUDAExecutionProvider' is not in available provider names.Available providers: 'AzureExecutionProvider, CPUExecutionProvider'\n",
      "  warnings.warn(\n",
      "/home/richard/github/ai-storyteller/.venv/lib/python3.11/site-packages/torch/nn/utils/weight_norm.py:143: FutureWarning: `torch.nn.utils.weight_norm` is deprecated in favor of `torch.nn.utils.parametrizations.weight_norm`.\n",
      "  WeightNorm.apply(module, name, dim)\n",
      "The argument `trust_remote_code` is to be used with Auto classes. It has no effect here and is ignored.\n",
      "Building prefix dict from the default dictionary ...\n",
      "Loading model from cache /tmp/jieba.cache\n",
      "Loading model cost 0.297 seconds.\n",
      "Prefix dict has been built successfully.\n",
      "/home/richard/github/ai-storyteller/vendor/DiffRhythm/g2p/g2p/chinese_model_g2p.py:101: UserWarning: Creating a tensor from a list of numpy.ndarrays is extremely slow. Please consider converting the list to a single numpy.ndarray with numpy.array() before converting to a tensor. (Triggered internally at /pytorch/torch/csrc/utils/tensor_new.cpp:254.)\n",
      "  batch_label_starts = torch.tensor(batch_label_starts, dtype=torch.long)\n",
      "\n",
      "Successfully generated: /home/richard/github/ai-storyteller/notebooks/music_generation/output.wav\n"
     ]
    },
    {
     "data": {
      "text/plain": [
       "PosixPath('/home/richard/github/ai-storyteller/notebooks/music_generation/output.wav')"
      ]
     },
     "execution_count": 14,
     "metadata": {},
     "output_type": "execute_result"
    }
   ],
   "source": [
    "dr.generate_music(\n",
    "    # lrc_path=\"../../data/music_generation/lrc/test.lrc\",\n",
    "    lrc_path=\"/tmp/lyrics.lrc\",\n",
    "    prompt=\"silent movie\",\n",
    "    # ref_audio_path=\"../../data/music_generation/music/Amazing Plan - Distressed.mp3\",\n",
    "    output_dir=\".\",\n",
    "    audio_length=95\n",
    ")"
   ]
  },
  {
   "cell_type": "markdown",
   "id": "bc0d5216",
   "metadata": {},
   "source": [
    "# Using prompt seems to work better than using reference song"
   ]
  },
  {
   "cell_type": "markdown",
   "id": "8db5a8c2",
   "metadata": {},
   "source": [
    "# Make lyrics fit the timings using example `.lrc`"
   ]
  },
  {
   "cell_type": "markdown",
   "id": "4df4a885",
   "metadata": {},
   "source": [
    "# Generate instruments only "
   ]
  },
  {
   "cell_type": "markdown",
   "id": "96855559",
   "metadata": {},
   "source": [
    "# Identify instruments"
   ]
  },
  {
   "cell_type": "markdown",
   "id": "6a3b37c1",
   "metadata": {},
   "source": [
    "# Figure out the prompt used to style the song"
   ]
  },
  {
   "cell_type": "code",
   "execution_count": null,
   "id": "7351dd33",
   "metadata": {},
   "outputs": [],
   "source": []
  }
 ],
 "metadata": {
  "kernelspec": {
   "display_name": ".venv",
   "language": "python",
   "name": "python3"
  },
  "language_info": {
   "codemirror_mode": {
    "name": "ipython",
    "version": 3
   },
   "file_extension": ".py",
   "mimetype": "text/x-python",
   "name": "python",
   "nbconvert_exporter": "python",
   "pygments_lexer": "ipython3",
   "version": "3.11.11"
  }
 },
 "nbformat": 4,
 "nbformat_minor": 5
}
