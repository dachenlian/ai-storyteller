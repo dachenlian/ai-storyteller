{
 "cells": [
  {
   "cell_type": "code",
   "execution_count": 5,
   "id": "a1e03dcb",
   "metadata": {},
   "outputs": [
    {
     "name": "stdout",
     "output_type": "stream",
     "text": [
      "The autoreload extension is already loaded. To reload it, use:\n",
      "  %reload_ext autoreload\n"
     ]
    }
   ],
   "source": [
    "%load_ext autoreload\n",
    "%autoreload 2\n",
    "from ai_storyteller.config.settings import settings"
   ]
  },
  {
   "cell_type": "code",
   "execution_count": 6,
   "id": "68e34048",
   "metadata": {},
   "outputs": [
    {
     "data": {
      "text/plain": [
       "{'project_base_dir': PosixPath('/home/richard/github/ai-storyteller/src/ai_storyteller'),\n",
       " 'base_dir': PosixPath('/home/richard/github/ai-storyteller'),\n",
       " 'data_dir': PosixPath('/home/richard/github/ai-storyteller/data')}"
      ]
     },
     "execution_count": 6,
     "metadata": {},
     "output_type": "execute_result"
    }
   ],
   "source": [
    "settings.model_dump()"
   ]
  },
  {
   "cell_type": "code",
   "execution_count": 7,
   "id": "c6c13de1",
   "metadata": {},
   "outputs": [],
   "source": [
    "import sys"
   ]
  },
  {
   "cell_type": "code",
   "execution_count": 8,
   "id": "d0613558",
   "metadata": {},
   "outputs": [
    {
     "data": {
      "text/plain": [
       "'/home/richard/github/ai-storyteller/.venv/bin/python'"
      ]
     },
     "execution_count": 8,
     "metadata": {},
     "output_type": "execute_result"
    }
   ],
   "source": [
    "sys.executable"
   ]
  }
 ],
 "metadata": {
  "kernelspec": {
   "display_name": ".venv",
   "language": "python",
   "name": "python3"
  },
  "language_info": {
   "codemirror_mode": {
    "name": "ipython",
    "version": 3
   },
   "file_extension": ".py",
   "mimetype": "text/x-python",
   "name": "python",
   "nbconvert_exporter": "python",
   "pygments_lexer": "ipython3",
   "version": "3.11.11"
  }
 },
 "nbformat": 4,
 "nbformat_minor": 5
}
